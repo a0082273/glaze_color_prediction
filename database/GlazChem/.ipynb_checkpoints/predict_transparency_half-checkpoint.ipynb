{
 "cells": [
  {
   "cell_type": "code",
   "execution_count": null,
   "metadata": {
    "scrolled": true
   },
   "outputs": [],
   "source": [
    "pd.set_option(\"display.max_columns\", 200)"
   ]
  },
  {
   "cell_type": "code",
   "execution_count": null,
   "metadata": {},
   "outputs": [],
   "source": [
    "df_high = pd.read_csv('high.csv')\n",
    "df_mid = pd.read_csv('mid.csv')\n",
    "df_low = pd.read_csv('low.csv')\n",
    "df_raku = pd.read_csv('raku.csv')"
   ]
  },
  {
   "cell_type": "code",
   "execution_count": null,
   "metadata": {},
   "outputs": [],
   "source": [
    "df_high = df_high[0:df_high.shape[0]//2]\n",
    "df_mid = df_mid[0:df_mid.shape[0]//2]\n",
    "df_low= df_low[0:df_low.shape[0]//2]\n",
    "df_raku = df_raku[0:df_raku.shape[0]//2]"
   ]
  },
  {
   "cell_type": "code",
   "execution_count": null,
   "metadata": {},
   "outputs": [],
   "source": [
    "df = pd.concat([df_high, df_low, df_mid, df_raku], axis=0, ignore_index=True)"
   ]
  },
  {
   "cell_type": "code",
   "execution_count": null,
   "metadata": {},
   "outputs": [],
   "source": [
    "df"
   ]
  },
  {
   "cell_type": "markdown",
   "metadata": {},
   "source": [
    "# Color"
   ]
  },
  {
   "cell_type": "code",
   "execution_count": null,
   "metadata": {
    "scrolled": true
   },
   "outputs": [],
   "source": [
    "df['Color'] = df['Color'].str.lower()\n",
    "df['Color'].value_counts()"
   ]
  },
  {
   "cell_type": "code",
   "execution_count": null,
   "metadata": {},
   "outputs": [],
   "source": [
    "df.drop('Color', axis=1, inplace=True)"
   ]
  },
  {
   "cell_type": "markdown",
   "metadata": {},
   "source": [
    "# Glaze name"
   ]
  },
  {
   "cell_type": "code",
   "execution_count": null,
   "metadata": {
    "scrolled": true
   },
   "outputs": [],
   "source": [
    "df['Glaze name'] = df['Glaze name'].str.lower()\n",
    "df['Glaze name'].value_counts()"
   ]
  },
  {
   "cell_type": "code",
   "execution_count": null,
   "metadata": {},
   "outputs": [],
   "source": [
    "df.drop('Glaze name', axis=1, inplace=True)"
   ]
  },
  {
   "cell_type": "markdown",
   "metadata": {},
   "source": [
    "# Cone"
   ]
  },
  {
   "cell_type": "code",
   "execution_count": null,
   "metadata": {
    "scrolled": true
   },
   "outputs": [],
   "source": [
    "df['Cone'] = df['Cone'].str.lower()\n",
    "df['Cone'].replace(['10 - 12', '10-12', '011'], '11', inplace=True)\n",
    "df['Cone'].replace(['10 - 11', '10-11'], '10.5', inplace=True)\n",
    "df['Cone'].replace(['9 - 11', '9-11', '9 - 10 - 11', '10?'], '10', inplace=True)\n",
    "df['Cone'].replace(['9 - 10', '9-10', '010-09', '9-=10'], '9.5', inplace=True)\n",
    "df['Cone'].replace(['8 - 10', '8-10', '8 - 9 - 10', '8 - 9 - 10', '9 only', '010 - 08'], '9', inplace=True)\n",
    "df['Cone'].replace('8 - 9', '8.5', inplace=True)\n",
    "df['Cone'].replace(['7 - 9', '08'], '8', inplace=True)\n",
    "df['Cone'].replace(['7 - 8', '7-8'], '7.5', inplace=True)\n",
    "df['Cone'].replace(['08 - 06', '6 - 8', '08-06', '6-8'], '7', inplace=True)\n",
    "df['Cone'].replace(['6 - 7', '06 - 07', '07 - 06'], '6.5', inplace=True)\n",
    "df['Cone'].replace(['06', '5-7', '5 - 7'], '6', inplace=True)\n",
    "df['Cone'].replace(['5 - 6', '5-6', 'cone 5-6'], '5.5', inplace=True)\n",
    "df['Cone'].replace(['05', '06-04', '4 - 6', '06 - 04'], '5', inplace=True)\n",
    "df['Cone'].replace(['4 - 5', '05 - 04'], '4.5', inplace=True)\n",
    "df['Cone'].replace(['04', '05-03', '3 - 5'], '4', inplace=True)\n",
    "df['Cone'].replace(['04-03', '04 - 03', '03 - 04'], '3.5', inplace=True)\n",
    "df['Cone'].replace(['03', '2-4', '04-02', '03?'], '3', inplace=True)\n",
    "df['Cone'].replace(['03-02'], '2.5', inplace=True)\n",
    "df['Cone'].replace(['02', '1-3'], '2', inplace=True)\n",
    "df['Cone'].replace(['02-01'], '1.5', inplace=True)\n",
    "df['Cone'].replace(['01'], '1', inplace=True)\n",
    "\n",
    "df['Cone'].replace(['3 - 6', '014', '08-04', '06-03', '5 - 8', '6 - 11', '04-11', '2 - 6', '04-9', '04-01', '5 - 9', '4 - 5 - 6 - 7 - 8', '06-01', '4 - 7', '08 - 04', '06 - 03', '2 - 5', '6 - 10', '6-10', '7 - 10', '9 - 12', '6 - 9', '5-9', '04 - 12', '5 - 10', '5-10', '6, 7, 8, 9, 10'], np.NaN, inplace=True)\n",
    "df['Cone'].value_counts()"
   ]
  },
  {
   "cell_type": "code",
   "execution_count": null,
   "metadata": {
    "scrolled": true
   },
   "outputs": [],
   "source": [
    "df = pd.concat([df, pd.get_dummies(df['Cone'], prefix='Cone_', dummy_na=True)], axis=1)\n",
    "df = df.drop('Cone', axis=1)"
   ]
  },
  {
   "cell_type": "markdown",
   "metadata": {},
   "source": [
    "# Testing"
   ]
  },
  {
   "cell_type": "code",
   "execution_count": null,
   "metadata": {},
   "outputs": [],
   "source": [
    "df['Testing'] = df['Testing'].str.lower()\n",
    "df['Testing'].value_counts()"
   ]
  },
  {
   "cell_type": "code",
   "execution_count": null,
   "metadata": {},
   "outputs": [],
   "source": [
    "df.drop('Testing', axis=1, inplace=True)"
   ]
  },
  {
   "cell_type": "markdown",
   "metadata": {},
   "source": [
    "# Surface"
   ]
  },
  {
   "cell_type": "code",
   "execution_count": null,
   "metadata": {
    "scrolled": true
   },
   "outputs": [],
   "source": [
    "df['Surface'] = df['Surface'].str.lower()\n",
    "df['Surface'].value_counts()"
   ]
  },
  {
   "cell_type": "code",
   "execution_count": null,
   "metadata": {
    "scrolled": true
   },
   "outputs": [],
   "source": [
    "df.drop('Surface', axis=1, inplace=True)"
   ]
  },
  {
   "cell_type": "markdown",
   "metadata": {},
   "source": [
    "# Firing"
   ]
  },
  {
   "cell_type": "code",
   "execution_count": null,
   "metadata": {
    "scrolled": true
   },
   "outputs": [],
   "source": [
    "df['Firing'] = df['Firing'].str.lower()\n",
    "df['Firing'].value_counts()"
   ]
  },
  {
   "cell_type": "code",
   "execution_count": null,
   "metadata": {},
   "outputs": [],
   "source": [
    "df['Firing'].replace(['ox or red', 'oxidation, reduction'], 'ox. or red.', inplace=True)\n",
    "df['Firing'].replace(['salt', 'soda'], 'salt - soda', inplace=True)\n",
    "df['Firing'].replace(['oxidaition', 'ox'], 'oxidation', inplace=True)\n",
    "df['Firing'].replace('reduction o', 'repruction', inplace=True)\n",
    "df['Firing'].value_counts()"
   ]
  },
  {
   "cell_type": "code",
   "execution_count": null,
   "metadata": {},
   "outputs": [],
   "source": [
    "df['Firing'] = df['Firing'].str.lower()\n",
    "tmp = []\n",
    "threshold = df.shape[0]/100\n",
    "for i in range(df['Firing'].nunique()):\n",
    "    if df['Firing'].value_counts(sort=False)[i] < threshold:\n",
    "        tmp.append(df['Firing'].value_counts(sort=False).index[i])\n",
    "len(tmp)"
   ]
  },
  {
   "cell_type": "code",
   "execution_count": null,
   "metadata": {},
   "outputs": [],
   "source": [
    "df['Firing'].replace(tmp, np.NaN, inplace=True)\n",
    "sns.countplot(df['Firing'].value_counts())"
   ]
  },
  {
   "cell_type": "code",
   "execution_count": null,
   "metadata": {},
   "outputs": [],
   "source": [
    "df['Firing'].value_counts()"
   ]
  },
  {
   "cell_type": "code",
   "execution_count": null,
   "metadata": {},
   "outputs": [],
   "source": [
    "df = pd.concat([df, pd.get_dummies(df['Firing'], prefix='Firing_', dummy_na=True)], axis=1)\n",
    "df = df.drop('Firing', axis=1)"
   ]
  },
  {
   "cell_type": "markdown",
   "metadata": {},
   "source": [
    "# Transparency"
   ]
  },
  {
   "cell_type": "code",
   "execution_count": null,
   "metadata": {},
   "outputs": [],
   "source": [
    "df['Transparency'] = df['Transparency'].str.lower()\n",
    "df['Transparency'].value_counts()"
   ]
  },
  {
   "cell_type": "code",
   "execution_count": null,
   "metadata": {},
   "outputs": [],
   "source": [
    "df['Transparency'].replace('translucent', 'semi-opaque', inplace=True)"
   ]
  },
  {
   "cell_type": "code",
   "execution_count": null,
   "metadata": {},
   "outputs": [],
   "source": [
    "df['Transparency'].value_counts()"
   ]
  },
  {
   "cell_type": "code",
   "execution_count": null,
   "metadata": {
    "scrolled": true
   },
   "outputs": [],
   "source": [
    "for ix in range(len(df)):\n",
    "    if type(df['Transparency'][ix]) == float:\n",
    "        df.drop(index=ix, inplace=True)"
   ]
  },
  {
   "cell_type": "code",
   "execution_count": null,
   "metadata": {},
   "outputs": [],
   "source": [
    "df.reset_index(drop=True, inplace=True)"
   ]
  },
  {
   "cell_type": "code",
   "execution_count": null,
   "metadata": {},
   "outputs": [],
   "source": [
    "df"
   ]
  },
  {
   "cell_type": "markdown",
   "metadata": {},
   "source": [
    "# Recipe"
   ]
  },
  {
   "cell_type": "code",
   "execution_count": null,
   "metadata": {},
   "outputs": [],
   "source": [
    "recipe = []"
   ]
  },
  {
   "cell_type": "code",
   "execution_count": null,
   "metadata": {
    "scrolled": true
   },
   "outputs": [],
   "source": [
    "ingredients = []\n",
    "for col in df.columns:\n",
    "    if col.startswith('Recipe'):\n",
    "        for ix in range(df.shape[0]):\n",
    "            ingredients.append(str(df[col][ix]).split('\\t')[0:2])\n",
    "df_ingredients = pd.DataFrame(ingredients)\n",
    "df_ingredients.columns = ['ingredient', 'amount']"
   ]
  },
  {
   "cell_type": "code",
   "execution_count": null,
   "metadata": {},
   "outputs": [],
   "source": [
    "df_ingredients['amount'] = df_ingredients['amount'].astype('float64')"
   ]
  },
  {
   "cell_type": "code",
   "execution_count": null,
   "metadata": {
    "scrolled": true
   },
   "outputs": [],
   "source": [
    "df_ingredients"
   ]
  },
  {
   "cell_type": "code",
   "execution_count": null,
   "metadata": {
    "scrolled": true
   },
   "outputs": [],
   "source": [
    "df_ingredients['ingredient'] = df_ingredients['ingredient'].str.lower()\n",
    "len(df_ingredients['ingredient'].unique())"
   ]
  },
  {
   "cell_type": "code",
   "execution_count": null,
   "metadata": {},
   "outputs": [],
   "source": [
    "for ingredient in df_ingredients['ingredient'].unique():\n",
    "    df[ingredient] = np.NaN"
   ]
  },
  {
   "cell_type": "code",
   "execution_count": null,
   "metadata": {
    "scrolled": true
   },
   "outputs": [],
   "source": [
    "for iing in range(int(len(df_ingredients)/len(df))):\n",
    "    for ix in range(len(df)):\n",
    "        ingredient = df_ingredients['ingredient'][len(df)*iing + ix]\n",
    "        amount = df_ingredients['amount'][len(df)*iing + ix]\n",
    "        df[ingredient][ix] = amount"
   ]
  },
  {
   "cell_type": "code",
   "execution_count": null,
   "metadata": {},
   "outputs": [],
   "source": [
    "for col in df.columns:\n",
    "    if col.startswith('Recipe'):\n",
    "        df.drop(str(col), axis=1, inplace=True)"
   ]
  },
  {
   "cell_type": "code",
   "execution_count": null,
   "metadata": {
    "scrolled": true
   },
   "outputs": [],
   "source": [
    "df"
   ]
  },
  {
   "cell_type": "code",
   "execution_count": null,
   "metadata": {},
   "outputs": [],
   "source": [
    "df.drop('nan', axis=1, inplace=True)"
   ]
  },
  {
   "cell_type": "code",
   "execution_count": null,
   "metadata": {
    "scrolled": true
   },
   "outputs": [],
   "source": [
    "df"
   ]
  },
  {
   "cell_type": "code",
   "execution_count": null,
   "metadata": {
    "scrolled": true
   },
   "outputs": [],
   "source": [
    "tmp = df_ingredients['amount'][pd.notna(df_ingredients['amount'])]\n",
    "sns.distplot(tmp[tmp>100])"
   ]
  },
  {
   "cell_type": "code",
   "execution_count": null,
   "metadata": {
    "scrolled": true
   },
   "outputs": [],
   "source": [
    "tmp[tmp>100]"
   ]
  },
  {
   "cell_type": "code",
   "execution_count": null,
   "metadata": {},
   "outputs": [],
   "source": [
    "sns.countplot(tmp[tmp>100].index%df.shape[0])"
   ]
  },
  {
   "cell_type": "code",
   "execution_count": null,
   "metadata": {},
   "outputs": [],
   "source": [
    "del_ix = tmp[tmp>100].index%df.shape[0]"
   ]
  },
  {
   "cell_type": "code",
   "execution_count": null,
   "metadata": {},
   "outputs": [],
   "source": [
    "del_ix"
   ]
  },
  {
   "cell_type": "code",
   "execution_count": null,
   "metadata": {},
   "outputs": [],
   "source": [
    "df.drop(index=del_ix, inplace=True)\n",
    "df.reset_index(drop=True, inplace=True)"
   ]
  },
  {
   "cell_type": "code",
   "execution_count": null,
   "metadata": {
    "scrolled": true
   },
   "outputs": [],
   "source": [
    "df"
   ]
  },
  {
   "cell_type": "code",
   "execution_count": null,
   "metadata": {
    "scrolled": true
   },
   "outputs": [],
   "source": [
    "df_ingredients['ingredient'].str.lower().value_counts()"
   ]
  },
  {
   "cell_type": "code",
   "execution_count": null,
   "metadata": {},
   "outputs": [],
   "source": [
    "tmp = []\n",
    "threshold = df.shape[0]/100\n",
    "for i in range(df_ingredients['ingredient'].nunique()):\n",
    "    if df_ingredients['ingredient'].value_counts(sort=False)[i] < threshold:\n",
    "        tmp.append(df_ingredients['ingredient'].value_counts(sort=False).index[i])\n",
    "len(tmp)"
   ]
  },
  {
   "cell_type": "code",
   "execution_count": null,
   "metadata": {},
   "outputs": [],
   "source": [
    "tmp.sort()"
   ]
  },
  {
   "cell_type": "code",
   "execution_count": null,
   "metadata": {
    "scrolled": true
   },
   "outputs": [],
   "source": [
    "tmp"
   ]
  },
  {
   "cell_type": "markdown",
   "metadata": {},
   "source": [
    "# modeling"
   ]
  },
  {
   "cell_type": "code",
   "execution_count": null,
   "metadata": {
    "scrolled": true
   },
   "outputs": [],
   "source": [
    "df"
   ]
  },
  {
   "cell_type": "code",
   "execution_count": null,
   "metadata": {},
   "outputs": [],
   "source": [
    "X = df.drop('Transparency', axis=1)\n",
    "y = df['Transparency']"
   ]
  },
  {
   "cell_type": "code",
   "execution_count": null,
   "metadata": {},
   "outputs": [],
   "source": [
    "from sklearn.model_selection import train_test_split\n",
    "X_train, X_test, y_train, y_test = train_test_split(X, y, random_state=42)"
   ]
  },
  {
   "cell_type": "code",
   "execution_count": null,
   "metadata": {
    "scrolled": true
   },
   "outputs": [],
   "source": [
    "import lightgbm\n",
    "#from sklearn.linear_model import LogisticRegression\n",
    "\n",
    "clf = lightgbm.LGBMClassifier()\n",
    "#clf = LogisticRegression()\n",
    "\n",
    "clf.fit(X_train, y_train)\n",
    "predict = clf.predict(X_test)"
   ]
  },
  {
   "cell_type": "code",
   "execution_count": null,
   "metadata": {
    "scrolled": true
   },
   "outputs": [],
   "source": [
    "df_check = pd.DataFrame(predict, np.array(y_test))\n",
    "df_check"
   ]
  },
  {
   "cell_type": "code",
   "execution_count": null,
   "metadata": {
    "scrolled": true
   },
   "outputs": [],
   "source": [
    "from sklearn.model_selection import cross_val_score\n",
    "scores = cross_val_score(clf, X, y, cv=5)"
   ]
  },
  {
   "cell_type": "code",
   "execution_count": null,
   "metadata": {
    "scrolled": true
   },
   "outputs": [],
   "source": [
    "feature_importance = pd.DataFrame(clf.feature_importances_, index=X.columns, columns=['feature_importance'])\n",
    "feature_importance.sort_values(by=['feature_importance'], ascending=False)"
   ]
  },
  {
   "cell_type": "code",
   "execution_count": null,
   "metadata": {
    "scrolled": true
   },
   "outputs": [],
   "source": [
    "plt.figure(figsize=(20, 80))\n",
    "sns.barplot(x=feature_importance['feature_importance'], y=feature_importance.index)"
   ]
  },
  {
   "cell_type": "code",
   "execution_count": null,
   "metadata": {},
   "outputs": [],
   "source": [
    "from sklearn.metrics import classification_report\n",
    "print(classification_report(y_test, predict))"
   ]
  },
  {
   "cell_type": "code",
   "execution_count": null,
   "metadata": {
    "scrolled": true
   },
   "outputs": [],
   "source": [
    "scores"
   ]
  },
  {
   "cell_type": "code",
   "execution_count": null,
   "metadata": {},
   "outputs": [],
   "source": []
  }
 ],
 "metadata": {
  "kernelspec": {
   "display_name": "Python 3",
   "language": "python",
   "name": "python3"
  },
  "language_info": {
   "codemirror_mode": {
    "name": "ipython",
    "version": 3
   },
   "file_extension": ".py",
   "mimetype": "text/x-python",
   "name": "python",
   "nbconvert_exporter": "python",
   "pygments_lexer": "ipython3",
   "version": "3.6.4"
  }
 },
 "nbformat": 4,
 "nbformat_minor": 2
}
